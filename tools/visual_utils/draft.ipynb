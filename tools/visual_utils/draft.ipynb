{
 "cells": [
  {
   "cell_type": "code",
   "execution_count": null,
   "metadata": {},
   "outputs": [],
   "source": [
    "import matplotlib.pyplot as plt\n",
    "import pickle \n",
    "from pathlib import Path as P\n",
    "from matplotlib.patches import Rectangle as Rec\n",
    "import numpy as np\n",
    "from pcdet.utils import calibration_kitti\n",
    "from matplotlib.patches import Patch\n",
    "from matplotlib.lines import Line2D\n",
    "from tqdm import tqdm\n",
    "from vod.visualization.settings import label_color_palette_2d\n",
    "cls_name = ['Car','Pedestrian', 'Cyclist', 'Others']\n",
    "\n",
    "\n",
    "\n",
    "# trans-ssd\n",
    "root_path = P('/root/dj/code/CenterPoint-KITTI/output/IA-SSD-vod-radar/iassd_128_vcomp/eval/checkpoint_epoch_100')\n",
    "# ia-ssd\n",
    "# root_path = P('/root/dj/code/CenterPoint-KITTI/output/IA-SSD-vod-radar/iassd_128_all/eval/checkpoint_epoch_100')\n",
    "\n",
    "# root_path = P('/root/dj/code/CenterPoint-KITTI/output/pointpillar_vod_lidar/filter5/eval/eval_with_train/epoch_80/val')\n",
    "\n",
    "color_dict = {}\n",
    "\n",
    "gt_save_dir = root_path / 'GT_bev'\n",
    "pred_save_dir = root_path / 'pred_bev'\n",
    "gt_save_dir.mkdir(exist_ok=True)\n",
    "pred_save_dir.mkdir(exist_ok=True)\n",
    "\n",
    "for i, v in enumerate(cls_name):\n",
    "    color_dict[v] = label_color_palette_2d[v]\n",
    "# load gt\n",
    "with open(str(root_path / 'gt.pkl'), 'rb') as f:\n",
    "    gt = pickle.load(f)\n",
    "\n",
    "# load det\n",
    "with open(str(root_path / 'dt.pkl'), 'rb') as f:\n",
    "    dt = pickle.load(f)\n",
    "\n",
    "# load centers\n",
    "with open(str(root_path / 'centers.pkl'), 'rb') as f:\n",
    "    centers = pickle.load(f)\n",
    "\n",
    "# load centers_origin\n",
    "with open(str(root_path / 'centers_origin.pkl'), 'rb') as f:\n",
    "    centers_origin = pickle.load(f)\n",
    "\n",
    "# load input points (after sampling to 512 points)\n",
    "with open(str(root_path / 'points.pkl'), 'rb') as f:\n",
    "    points = pickle.load(f)\n",
    "\n",
    "data_dict = {}\n",
    "def load_data(name):\n",
    "    with open(str(root_path / (name + '.pkl')), 'rb') as f:\n",
    "        data = pickle.load(f)\n",
    "    return data\n",
    "save_name_list = ('centers', 'centers_origin', 'points', 'match', 'lidar_center', 'lidar_preds', 'radar_preds', 'radar_label')\n",
    "for name in save_name_list:\n",
    "    data_dict[name] = load_data(name)"
   ]
  },
  {
   "cell_type": "code",
   "execution_count": null,
   "metadata": {},
   "outputs": [],
   "source": []
  }
 ],
 "metadata": {
  "kernelspec": {
   "display_name": "Python 3.8.5 ('base')",
   "language": "python",
   "name": "python3"
  },
  "language_info": {
   "name": "python",
   "version": "3.8.5"
  },
  "orig_nbformat": 4,
  "vscode": {
   "interpreter": {
    "hash": "d4d1e4263499bec80672ea0156c357c1ee493ec2b1c70f0acce89fc37c4a6abe"
   }
  }
 },
 "nbformat": 4,
 "nbformat_minor": 2
}
